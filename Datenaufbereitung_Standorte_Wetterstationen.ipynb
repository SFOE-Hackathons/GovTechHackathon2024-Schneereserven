{
 "cells": [
  {
   "cell_type": "markdown",
   "metadata": {},
   "source": [
    "Pakete laden"
   ]
  },
  {
   "cell_type": "code",
   "execution_count": 1,
   "metadata": {},
   "outputs": [],
   "source": [
    "import geopandas as gpd\n",
    "import pandas as pd\n",
    "from shapely import wkt\n",
    "from shapely.geometry import Point"
   ]
  },
  {
   "cell_type": "code",
   "execution_count": 2,
   "metadata": {},
   "outputs": [],
   "source": [
    "pd.set_option('display.max_colwidth', None)\n",
    "pd.options.display.max_columns = None"
   ]
  },
  {
   "cell_type": "markdown",
   "metadata": {},
   "source": [
    "Funktionen"
   ]
  },
  {
   "cell_type": "code",
   "execution_count": 3,
   "metadata": {},
   "outputs": [],
   "source": [
    "# Funktion, um den Index der nächstgelegenen Wetterstation zu finden\n",
    "def find_nearest_station_index(point, stations):\n",
    "    point = gpd.GeoDataFrame(geometry=[point], crs=stations.crs)\n",
    "    distances = stations.geometry.apply(lambda station: point.distance(station).values[0])\n",
    "    return distances.idxmin()"
   ]
  },
  {
   "cell_type": "markdown",
   "metadata": {},
   "source": [
    "Standorte von Staumauern laden"
   ]
  },
  {
   "cell_type": "code",
   "execution_count": 4,
   "metadata": {},
   "outputs": [],
   "source": [
    "locations = pd.read_csv(r\"C:\\Users\\fth\\GovTechHackathon2024-Schneereserven\\tol\\standorte.csv\")"
   ]
  },
  {
   "cell_type": "code",
   "execution_count": 5,
   "metadata": {},
   "outputs": [],
   "source": [
    "locations['geometry'] =  locations['geometry'].apply(wkt.loads)\n",
    "point_gdf = gpd.GeoDataFrame(data=locations, geometry=\"geometry\")\n",
    "# Koordinaten extrahieren\n",
    "point_gdf['X'] = point_gdf['geometry'].x\n",
    "point_gdf['Y'] = point_gdf['geometry'].y"
   ]
  },
  {
   "cell_type": "markdown",
   "metadata": {},
   "source": [
    "Wetterstationen laden"
   ]
  },
  {
   "cell_type": "code",
   "execution_count": 6,
   "metadata": {},
   "outputs": [],
   "source": [
    "# URL des CSV\n",
    "url = \"https://data.geo.admin.ch/ch.meteoschweiz.messnetz-automatisch/ch.meteoschweiz.messnetz-automatisch_de.csv\"\n",
    "\n",
    "# CSV direkt als DataFrame laden\n",
    "weather_stations_df = pd.read_csv(url, encoding=\"latin-1\", sep=\";\")\n",
    "# Zielen entfernen, bei denen \"Daten seit\" NULL ist\n",
    "weather_stations_df = weather_stations_df[weather_stations_df['Daten seit'].notnull()]"
   ]
  },
  {
   "cell_type": "code",
   "execution_count": 7,
   "metadata": {},
   "outputs": [
    {
     "data": {
      "text/html": [
       "<div>\n",
       "<style scoped>\n",
       "    .dataframe tbody tr th:only-of-type {\n",
       "        vertical-align: middle;\n",
       "    }\n",
       "\n",
       "    .dataframe tbody tr th {\n",
       "        vertical-align: top;\n",
       "    }\n",
       "\n",
       "    .dataframe thead th {\n",
       "        text-align: right;\n",
       "    }\n",
       "</style>\n",
       "<table border=\"1\" class=\"dataframe\">\n",
       "  <thead>\n",
       "    <tr style=\"text-align: right;\">\n",
       "      <th></th>\n",
       "      <th>Station</th>\n",
       "      <th>Abk.</th>\n",
       "      <th>WIGOS-ID</th>\n",
       "      <th>Stationstyp</th>\n",
       "      <th>Eigentümer</th>\n",
       "      <th>Daten seit</th>\n",
       "      <th>Stationshöhe m ü. M.</th>\n",
       "      <th>Barometerhöhe m ü. Boden</th>\n",
       "      <th>KoordinatenE</th>\n",
       "      <th>KoordinatenN</th>\n",
       "      <th>Breitengrad</th>\n",
       "      <th>Längengrad</th>\n",
       "      <th>Exposition</th>\n",
       "      <th>Kanton</th>\n",
       "      <th>Messungen</th>\n",
       "      <th>Link</th>\n",
       "      <th>geometry</th>\n",
       "    </tr>\n",
       "  </thead>\n",
       "  <tbody>\n",
       "    <tr>\n",
       "      <th>0</th>\n",
       "      <td>Aadorf / Tänikon</td>\n",
       "      <td>TAE</td>\n",
       "      <td>0-20000-0-06679</td>\n",
       "      <td>Wetterstation</td>\n",
       "      <td>MeteoSchweiz</td>\n",
       "      <td>01.01.1970</td>\n",
       "      <td>539.0</td>\n",
       "      <td>539.0</td>\n",
       "      <td>2710518.0</td>\n",
       "      <td>1259824.0</td>\n",
       "      <td>47.479892</td>\n",
       "      <td>8.904928</td>\n",
       "      <td>Ebene</td>\n",
       "      <td>TG</td>\n",
       "      <td>Temperatur, Feuchte, Taupunkt, Niederschlag, Druck, Wind, Globalstrahlung, Sonnenschein, Schnee, Temperatur 5cm, Bodentemperatur, Strahlung langwellig</td>\n",
       "      <td>https://www.meteoschweiz.admin.ch/service-und-publikationen/applikationen/messwerte-und-messnetze.html#param=messnetz-automatisch&amp;station=TAE</td>\n",
       "      <td>POINT (2710518.000 1259824.000)</td>\n",
       "    </tr>\n",
       "    <tr>\n",
       "      <th>1</th>\n",
       "      <td>Aarberg</td>\n",
       "      <td>ABE</td>\n",
       "      <td>0-756-0-ABE</td>\n",
       "      <td>Niederschlagsstation</td>\n",
       "      <td>MeteoSchweiz</td>\n",
       "      <td>01.10.1900</td>\n",
       "      <td>444.0</td>\n",
       "      <td>NaN</td>\n",
       "      <td>2588354.0</td>\n",
       "      <td>1211894.0</td>\n",
       "      <td>47.057969</td>\n",
       "      <td>7.285350</td>\n",
       "      <td>Ebene</td>\n",
       "      <td>BE</td>\n",
       "      <td>Niederschlag, Schnee</td>\n",
       "      <td>https://www.meteoschweiz.admin.ch/service-und-publikationen/applikationen/messwerte-und-messnetze.html#param=messnetz-automatisch&amp;station=ABE</td>\n",
       "      <td>POINT (2588354.000 1211894.000)</td>\n",
       "    </tr>\n",
       "    <tr>\n",
       "      <th>2</th>\n",
       "      <td>Acquarossa / Comprovasco</td>\n",
       "      <td>COM</td>\n",
       "      <td>0-20000-0-06756</td>\n",
       "      <td>Wetterstation</td>\n",
       "      <td>MeteoSchweiz</td>\n",
       "      <td>01.10.1900</td>\n",
       "      <td>575.0</td>\n",
       "      <td>576.0</td>\n",
       "      <td>2714985.0</td>\n",
       "      <td>1146451.0</td>\n",
       "      <td>46.459517</td>\n",
       "      <td>8.935486</td>\n",
       "      <td>Tal</td>\n",
       "      <td>TI</td>\n",
       "      <td>Temperatur, Feuchte, Taupunkt, Niederschlag, Druck, Wind, Globalstrahlung, Sonnenschein, Föhnindex, Temperatur 5cm</td>\n",
       "      <td>https://www.meteoschweiz.admin.ch/service-und-publikationen/applikationen/messwerte-und-messnetze.html#param=messnetz-automatisch&amp;station=COM</td>\n",
       "      <td>POINT (2714985.000 1146451.000)</td>\n",
       "    </tr>\n",
       "    <tr>\n",
       "      <th>3</th>\n",
       "      <td>Adelboden</td>\n",
       "      <td>ABO</td>\n",
       "      <td>0-20000-0-06735</td>\n",
       "      <td>Wetterstation</td>\n",
       "      <td>MeteoSchweiz, SLF</td>\n",
       "      <td>01.01.1901</td>\n",
       "      <td>1321.0</td>\n",
       "      <td>1326.0</td>\n",
       "      <td>2609372.0</td>\n",
       "      <td>1148939.0</td>\n",
       "      <td>46.491703</td>\n",
       "      <td>7.560703</td>\n",
       "      <td>Südosthang</td>\n",
       "      <td>BE</td>\n",
       "      <td>Temperatur, Feuchte, Taupunkt, Niederschlag, Druck, Wind, Globalstrahlung, Sonnenschein, Schnee, Föhnindex, Temperatur 5cm</td>\n",
       "      <td>https://www.meteoschweiz.admin.ch/service-und-publikationen/applikationen/messwerte-und-messnetze.html#param=messnetz-automatisch&amp;station=ABO</td>\n",
       "      <td>POINT (2609372.000 1148939.000)</td>\n",
       "    </tr>\n",
       "    <tr>\n",
       "      <th>4</th>\n",
       "      <td>Affoltern i. E.</td>\n",
       "      <td>AIE</td>\n",
       "      <td>0-756-0-AIE</td>\n",
       "      <td>Niederschlagsstation</td>\n",
       "      <td>MeteoSchweiz</td>\n",
       "      <td>01.01.1864</td>\n",
       "      <td>755.0</td>\n",
       "      <td>NaN</td>\n",
       "      <td>2622940.0</td>\n",
       "      <td>1212500.0</td>\n",
       "      <td>47.063125</td>\n",
       "      <td>7.740614</td>\n",
       "      <td>Osthang</td>\n",
       "      <td>BE</td>\n",
       "      <td>Niederschlag</td>\n",
       "      <td>https://www.meteoschweiz.admin.ch/service-und-publikationen/applikationen/messwerte-und-messnetze.html#param=messnetz-automatisch&amp;station=AIE</td>\n",
       "      <td>POINT (2622940.000 1212500.000)</td>\n",
       "    </tr>\n",
       "  </tbody>\n",
       "</table>\n",
       "</div>"
      ],
      "text/plain": [
       "                    Station Abk.         WIGOS-ID           Stationstyp  \\\n",
       "0          Aadorf / Tänikon  TAE  0-20000-0-06679         Wetterstation   \n",
       "1                   Aarberg  ABE      0-756-0-ABE  Niederschlagsstation   \n",
       "2  Acquarossa / Comprovasco  COM  0-20000-0-06756         Wetterstation   \n",
       "3                 Adelboden  ABO  0-20000-0-06735         Wetterstation   \n",
       "4           Affoltern i. E.  AIE      0-756-0-AIE  Niederschlagsstation   \n",
       "\n",
       "          Eigentümer  Daten seit  Stationshöhe m ü. M.  \\\n",
       "0       MeteoSchweiz  01.01.1970                 539.0   \n",
       "1       MeteoSchweiz  01.10.1900                 444.0   \n",
       "2       MeteoSchweiz  01.10.1900                 575.0   \n",
       "3  MeteoSchweiz, SLF  01.01.1901                1321.0   \n",
       "4       MeteoSchweiz  01.01.1864                 755.0   \n",
       "\n",
       "   Barometerhöhe m ü. Boden  KoordinatenE  KoordinatenN  Breitengrad  \\\n",
       "0                     539.0     2710518.0     1259824.0    47.479892   \n",
       "1                       NaN     2588354.0     1211894.0    47.057969   \n",
       "2                     576.0     2714985.0     1146451.0    46.459517   \n",
       "3                    1326.0     2609372.0     1148939.0    46.491703   \n",
       "4                       NaN     2622940.0     1212500.0    47.063125   \n",
       "\n",
       "   Längengrad  Exposition Kanton  \\\n",
       "0    8.904928       Ebene     TG   \n",
       "1    7.285350       Ebene     BE   \n",
       "2    8.935486         Tal     TI   \n",
       "3    7.560703  Südosthang     BE   \n",
       "4    7.740614     Osthang     BE   \n",
       "\n",
       "                                                                                                                                                Messungen  \\\n",
       "0  Temperatur, Feuchte, Taupunkt, Niederschlag, Druck, Wind, Globalstrahlung, Sonnenschein, Schnee, Temperatur 5cm, Bodentemperatur, Strahlung langwellig   \n",
       "1                                                                                                                                    Niederschlag, Schnee   \n",
       "2                                      Temperatur, Feuchte, Taupunkt, Niederschlag, Druck, Wind, Globalstrahlung, Sonnenschein, Föhnindex, Temperatur 5cm   \n",
       "3                              Temperatur, Feuchte, Taupunkt, Niederschlag, Druck, Wind, Globalstrahlung, Sonnenschein, Schnee, Föhnindex, Temperatur 5cm   \n",
       "4                                                                                                                                            Niederschlag   \n",
       "\n",
       "                                                                                                                                            Link  \\\n",
       "0  https://www.meteoschweiz.admin.ch/service-und-publikationen/applikationen/messwerte-und-messnetze.html#param=messnetz-automatisch&station=TAE   \n",
       "1  https://www.meteoschweiz.admin.ch/service-und-publikationen/applikationen/messwerte-und-messnetze.html#param=messnetz-automatisch&station=ABE   \n",
       "2  https://www.meteoschweiz.admin.ch/service-und-publikationen/applikationen/messwerte-und-messnetze.html#param=messnetz-automatisch&station=COM   \n",
       "3  https://www.meteoschweiz.admin.ch/service-und-publikationen/applikationen/messwerte-und-messnetze.html#param=messnetz-automatisch&station=ABO   \n",
       "4  https://www.meteoschweiz.admin.ch/service-und-publikationen/applikationen/messwerte-und-messnetze.html#param=messnetz-automatisch&station=AIE   \n",
       "\n",
       "                          geometry  \n",
       "0  POINT (2710518.000 1259824.000)  \n",
       "1  POINT (2588354.000 1211894.000)  \n",
       "2  POINT (2714985.000 1146451.000)  \n",
       "3  POINT (2609372.000 1148939.000)  \n",
       "4  POINT (2622940.000 1212500.000)  "
      ]
     },
     "execution_count": 7,
     "metadata": {},
     "output_type": "execute_result"
    }
   ],
   "source": [
    "weather_stations_gdf = gpd.GeoDataFrame(\n",
    "    weather_stations_df,\n",
    "    geometry=gpd.points_from_xy(weather_stations_df.KoordinatenE, weather_stations_df.KoordinatenN),\n",
    "    crs=\"EPSG:2056\"  # LV95 Koordinatensystem\n",
    ")\n",
    "weather_stations_gdf.head()"
   ]
  },
  {
   "cell_type": "code",
   "execution_count": 8,
   "metadata": {},
   "outputs": [],
   "source": [
    "# Ermitteln der Indexwerte der nächstgelegenen Stationen\n",
    "point_gdf['nearest_station_index'] = point_gdf.geometry.apply(lambda x: find_nearest_station_index(x, weather_stations_gdf))"
   ]
  },
  {
   "cell_type": "code",
   "execution_count": 9,
   "metadata": {},
   "outputs": [],
   "source": [
    "# Hinzufügen der Informationen der nächstgelegenen Stationen zu point_gdf\n",
    "for column in weather_stations_gdf.columns:\n",
    "    point_gdf[column] = point_gdf['nearest_station_index'].apply(lambda idx: weather_stations_gdf.loc[idx, column])\n",
    "\n",
    "# Entfernen der Hilfsspalte\n",
    "point_gdf.drop(columns=['nearest_station_index'], inplace=True)"
   ]
  }
 ],
 "metadata": {
  "kernelspec": {
   "display_name": "hackathon_schnee",
   "language": "python",
   "name": "python3"
  },
  "language_info": {
   "codemirror_mode": {
    "name": "ipython",
    "version": 3
   },
   "file_extension": ".py",
   "mimetype": "text/x-python",
   "name": "python",
   "nbconvert_exporter": "python",
   "pygments_lexer": "ipython3",
   "version": "3.11.8"
  }
 },
 "nbformat": 4,
 "nbformat_minor": 2
}
