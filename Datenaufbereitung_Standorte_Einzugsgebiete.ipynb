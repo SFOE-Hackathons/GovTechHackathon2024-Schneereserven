{
 "cells": [
  {
   "cell_type": "markdown",
   "metadata": {},
   "source": [
    "Pakete laden"
   ]
  },
  {
   "cell_type": "code",
   "execution_count": 1,
   "metadata": {},
   "outputs": [],
   "source": [
    "import os\n",
    "import pandas as pd\n",
    "import geopandas as gpd\n",
    "from shapely import wkt\n",
    "from shapely.geometry import shape\n",
    "import requests"
   ]
  },
  {
   "cell_type": "markdown",
   "metadata": {},
   "source": [
    "Funktionen"
   ]
  },
  {
   "cell_type": "code",
   "execution_count": 25,
   "metadata": {},
   "outputs": [],
   "source": [
    "def download_tiff(url, save_path):\n",
    "    try:\n",
    "        response = requests.get(url)\n",
    "        if response.status_code == 200:\n",
    "            with open(save_path, 'wb') as f:\n",
    "                f.write(response.content)\n",
    "            print(\"TIFF heruntergeladen und gespeichert unter:\", save_path)\n",
    "        else:\n",
    "            print(\"Fehler beim Herunterladen der Datei. Statuscode:\", response.status_code)\n",
    "    except Exception as e:\n",
    "        print(\"Fehler:\", e)"
   ]
  },
  {
   "cell_type": "code",
   "execution_count": null,
   "metadata": {},
   "outputs": [],
   "source": [
    "# Funktion, um Polygone aus einer Geometry Collection zu extrahieren\n",
    "def extract_polygons(geometry):\n",
    "    if geometry[\"type\"] == \"GeometryCollection\":\n",
    "        # Extrahiere Polygone und MultiPolygone aus der Geometry Collection\n",
    "        return [shape(geom) for geom in geometry[\"geometries\"] if geom[\"type\"] in [\"Polygon\", \"MultiPolygon\"]]\n",
    "    else:\n",
    "        # Geometrie direkt zurückgeben, wenn sie kein GeometryCollection ist\n",
    "        return [shape(geometry)]"
   ]
  },
  {
   "cell_type": "markdown",
   "metadata": {},
   "source": [
    "# Daten beschaffen"
   ]
  },
  {
   "cell_type": "markdown",
   "metadata": {},
   "source": [
    "Tiff"
   ]
  },
  {
   "cell_type": "code",
   "execution_count": 5,
   "metadata": {},
   "outputs": [
    {
     "name": "stdout",
     "output_type": "stream",
     "text": [
      "TIFF heruntergeladen und gespeichert unter: bild.tiff\n"
     ]
    }
   ],
   "source": [
    "url = \"https://bfe-ogd.s3.eu-central-1.amazonaws.com/2023-11-11%2B000_alps_SWE_product.tif\"\n",
    "save_path = \"bild.tiff\"\n",
    "download_tiff(url, save_path)"
   ]
  },
  {
   "cell_type": "code",
   "execution_count": 25,
   "metadata": {},
   "outputs": [
    {
     "name": "stdout",
     "output_type": "stream",
     "text": [
      "Koordinatensystem:\n",
      "PROJCS[\"WGS 84 / Pseudo-Mercator\",\n",
      "    GEOGCS[\"WGS 84\",\n",
      "        DATUM[\"WGS_1984\",\n",
      "            SPHEROID[\"WGS 84\",6378137,298.257223563,\n",
      "                AUTHORITY[\"EPSG\",\"7030\"]],\n",
      "            AUTHORITY[\"EPSG\",\"6326\"]],\n",
      "        PRIMEM[\"Greenwich\",0,\n",
      "            AUTHORITY[\"EPSG\",\"8901\"]],\n",
      "        UNIT[\"degree\",0.0174532925199433,\n",
      "            AUTHORITY[\"EPSG\",\"9122\"]],\n",
      "        AUTHORITY[\"EPSG\",\"4326\"]],\n",
      "    PROJECTION[\"Mercator_1SP\"],\n",
      "    PARAMETER[\"central_meridian\",0],\n",
      "    PARAMETER[\"scale_factor\",1],\n",
      "    PARAMETER[\"false_easting\",0],\n",
      "    PARAMETER[\"false_northing\",0],\n",
      "    UNIT[\"metre\",1,\n",
      "        AUTHORITY[\"EPSG\",\"9001\"]],\n",
      "    AXIS[\"Easting\",EAST],\n",
      "    AXIS[\"Northing\",NORTH],\n",
      "    EXTENSION[\"PROJ4\",\"+proj=merc +a=6378137 +b=6378137 +lat_ts=0 +lon_0=0 +x_0=0 +y_0=0 +k=1 +units=m +nadgrids=@null +wktext +no_defs\"],\n",
      "    AUTHORITY[\"EPSG\",\"3857\"]]\n"
     ]
    }
   ],
   "source": [
    "from osgeo import gdal, osr\n",
    "\n",
    "# Pfad zu Ihrer GeoTIFF-Datei\n",
    "file_path = r\"C:\\Hackathon\\1_Rohdaten\\bild.tiff\"\n",
    "dataset = gdal.Open(file_path)\n",
    "\n",
    "# Koordinatensystem ermitteln\n",
    "srs = osr.SpatialReference()\n",
    "srs.ImportFromWkt(dataset.GetProjection())\n",
    "\n",
    "# Koordinatensystem ausgeben\n",
    "print(\"Koordinatensystem:\")\n",
    "print(srs.ExportToPrettyWkt())"
   ]
  },
  {
   "cell_type": "markdown",
   "metadata": {},
   "source": [
    "Standorte laden"
   ]
  },
  {
   "cell_type": "code",
   "execution_count": 2,
   "metadata": {},
   "outputs": [],
   "source": [
    "locations = pd.read_csv(r\"C:\\Hackathon\\1_Rohdaten\\standorte.csv\")"
   ]
  },
  {
   "cell_type": "markdown",
   "metadata": {},
   "source": [
    "Standorte zu Shape transformieren und speichern"
   ]
  },
  {
   "cell_type": "code",
   "execution_count": 3,
   "metadata": {},
   "outputs": [],
   "source": [
    "locations['geometry'] =  locations['geometry'].apply(wkt.loads)\n",
    "point_gdf = gpd.GeoDataFrame(data=locations, geometry=\"geometry\")\n",
    "#point_gdf.to_file(r\"C:\\Hackathon\\2_Processing\\standorte.shp\")"
   ]
  },
  {
   "cell_type": "code",
   "execution_count": null,
   "metadata": {},
   "outputs": [],
   "source": [
    "# Koordinaten extrahieren\n",
    "point_gdf['X'] = point_gdf['geometry'].x\n",
    "point_gdf['Y'] = point_gdf['geometry'].y"
   ]
  },
  {
   "cell_type": "code",
   "execution_count": null,
   "metadata": {},
   "outputs": [],
   "source": [
    "# Geometrie-Daten löschen\n",
    "point_gdf = point_gdf.drop(columns=\"geometry\")"
   ]
  },
  {
   "cell_type": "markdown",
   "metadata": {},
   "source": [
    "Einzugsgebiete laden"
   ]
  },
  {
   "cell_type": "code",
   "execution_count": 21,
   "metadata": {},
   "outputs": [
    {
     "name": "stdout",
     "output_type": "stream",
     "text": [
      "Bearbeite Nr.  1\n",
      "Bearbeite Nr.  2\n",
      "Bearbeite Nr.  3\n",
      "Bearbeite Nr.  4\n",
      "Bearbeite Nr.  5\n",
      "Bearbeite Nr.  6\n",
      "Bearbeite Nr.  7\n",
      "Bearbeite Nr.  8\n",
      "Bearbeite Nr.  9\n",
      "Bearbeite Nr.  10\n",
      "Bearbeite Nr.  11\n",
      "Bearbeite Nr.  12\n",
      "Bearbeite Nr.  13\n",
      "Bearbeite Nr.  14\n",
      "Bearbeite Nr.  15\n",
      "Bearbeite Nr.  16\n",
      "Bearbeite Nr.  17\n",
      "Bearbeite Nr.  18\n",
      "Bearbeite Nr.  19\n",
      "Bearbeite Nr.  20\n",
      "Bearbeite Nr.  21\n",
      "Bearbeite Nr.  22\n",
      "Bearbeite Nr.  23\n",
      "Bearbeite Nr.  24\n",
      "Bearbeite Nr.  25\n",
      "Bearbeite Nr.  26\n",
      "Bearbeite Nr.  27\n",
      "Bearbeite Nr.  28\n",
      "Bearbeite Nr.  29\n",
      "Bearbeite Nr.  30\n",
      "Bearbeite Nr.  31\n",
      "Bearbeite Nr.  32\n",
      "Bearbeite Nr.  33\n",
      "Bearbeite Nr.  34\n",
      "Bearbeite Nr.  35\n",
      "Bearbeite Nr.  36\n",
      "Bearbeite Nr.  37\n",
      "Bearbeite Nr.  38\n",
      "Bearbeite Nr.  39\n",
      "Bearbeite Nr.  40\n",
      "Bearbeite Nr.  41\n",
      "Bearbeite Nr.  42\n",
      "Bearbeite Nr.  43\n",
      "Bearbeite Nr.  44\n",
      "Bearbeite Nr.  45\n",
      "Bearbeite Nr.  46\n",
      "Bearbeite Nr.  47\n",
      "Bearbeite Nr.  48\n",
      "Bearbeite Nr.  49\n",
      "Bearbeite Nr.  50\n",
      "Bearbeite Nr.  51\n",
      "Bearbeite Nr.  52\n",
      "Bearbeite Nr.  53\n",
      "Bearbeite Nr.  54\n",
      "Bearbeite Nr.  55\n",
      "Bearbeite Nr.  56\n",
      "Bearbeite Nr.  57\n",
      "Bearbeite Nr.  58\n",
      "Bearbeite Nr.  59\n",
      "Bearbeite Nr.  60\n",
      "Bearbeite Nr.  61\n",
      "Bearbeite Nr.  62\n",
      "Bearbeite Nr.  63\n",
      "Bearbeite Nr.  64\n",
      "Bearbeite Nr.  65\n",
      "Bearbeite Nr.  66\n",
      "Bearbeite Nr.  67\n",
      "Bearbeite Nr.  68\n",
      "Bearbeite Nr.  69\n",
      "Bearbeite Nr.  70\n",
      "Bearbeite Nr.  71\n",
      "Bearbeite Nr.  72\n",
      "Bearbeite Nr.  73\n",
      "Bearbeite Nr.  74\n",
      "Bearbeite Nr.  75\n",
      "Bearbeite Nr.  76\n",
      "Bearbeite Nr.  77\n",
      "Bearbeite Nr.  78\n",
      "Bearbeite Nr.  79\n",
      "Bearbeite Nr.  80\n",
      "Bearbeite Nr.  81\n",
      "Bearbeite Nr.  82\n",
      "Bearbeite Nr.  83\n",
      "Bearbeite Nr.  84\n",
      "Bearbeite Nr.  85\n",
      "Bearbeite Nr.  86\n",
      "Bearbeite Nr.  87\n",
      "Bearbeite Nr.  88\n",
      "Bearbeite Nr.  89\n",
      "Bearbeite Nr.  90\n",
      "Bearbeite Nr.  91\n",
      "Bearbeite Nr.  92\n",
      "Bearbeite Nr.  93\n",
      "Bearbeite Nr.  94\n",
      "Bearbeite Nr.  95\n",
      "Bearbeite Nr.  96\n",
      "Bearbeite Nr.  97\n",
      "Bearbeite Nr.  98\n",
      "Bearbeite Nr.  99\n",
      "Bearbeite Nr.  100\n",
      "Bearbeite Nr.  101\n",
      "Bearbeite Nr.  102\n",
      "Bearbeite Nr.  103\n",
      "Bearbeite Nr.  104\n",
      "Bearbeite Nr.  105\n",
      "Bearbeite Nr.  106\n",
      "Bearbeite Nr.  107\n",
      "Bearbeite Nr.  108\n",
      "Bearbeite Nr.  109\n",
      "Bearbeite Nr.  110\n",
      "Bearbeite Nr.  111\n",
      "Bearbeite Nr.  112\n",
      "Bearbeite Nr.  113\n",
      "Bearbeite Nr.  114\n",
      "Bearbeite Nr.  115\n",
      "Bearbeite Nr.  116\n",
      "Bearbeite Nr.  117\n",
      "Bearbeite Nr.  118\n",
      "Bearbeite Nr.  119\n",
      "Bearbeite Nr.  120\n",
      "Bearbeite Nr.  121\n",
      "Bearbeite Nr.  122\n",
      "Bearbeite Nr.  123\n",
      "Bearbeite Nr.  124\n",
      "Bearbeite Nr.  125\n",
      "Bearbeite Nr.  126\n",
      "Bearbeite Nr.  127\n",
      "Bearbeite Nr.  128\n",
      "Bearbeite Nr.  129\n",
      "Bearbeite Nr.  130\n",
      "Bearbeite Nr.  131\n",
      "Bearbeite Nr.  132\n",
      "Bearbeite Nr.  133\n",
      "Bearbeite Nr.  134\n",
      "Bearbeite Nr.  135\n",
      "Bearbeite Nr.  136\n",
      "Bearbeite Nr.  137\n",
      "Bearbeite Nr.  138\n",
      "Bearbeite Nr.  139\n",
      "Bearbeite Nr.  140\n",
      "Bearbeite Nr.  141\n",
      "Bearbeite Nr.  142\n",
      "Bearbeite Nr.  143\n",
      "Bearbeite Nr.  144\n",
      "Bearbeite Nr.  145\n",
      "Bearbeite Nr.  146\n",
      "Bearbeite Nr.  147\n",
      "Bearbeite Nr.  148\n",
      "Bearbeite Nr.  149\n",
      "Bearbeite Nr.  150\n",
      "Bearbeite Nr.  151\n",
      "Bearbeite Nr.  152\n",
      "Bearbeite Nr.  153\n",
      "Bearbeite Nr.  154\n",
      "Bearbeite Nr.  155\n",
      "Bearbeite Nr.  156\n",
      "Bearbeite Nr.  157\n",
      "Bearbeite Nr.  158\n",
      "Bearbeite Nr.  159\n",
      "Bearbeite Nr.  160\n",
      "Bearbeite Nr.  161\n",
      "Bearbeite Nr.  162\n",
      "Bearbeite Nr.  163\n",
      "Bearbeite Nr.  164\n",
      "Bearbeite Nr.  165\n",
      "Bearbeite Nr.  166\n",
      "Bearbeite Nr.  167\n",
      "Bearbeite Nr.  168\n",
      "Bearbeite Nr.  169\n",
      "Bearbeite Nr.  170\n",
      "Bearbeite Nr.  171\n",
      "Bearbeite Nr.  172\n",
      "Bearbeite Nr.  173\n",
      "Bearbeite Nr.  174\n",
      "Bearbeite Nr.  175\n",
      "Bearbeite Nr.  176\n",
      "Bearbeite Nr.  177\n",
      "Bearbeite Nr.  178\n",
      "Bearbeite Nr.  179\n",
      "Bearbeite Nr.  180\n",
      "Bearbeite Nr.  181\n",
      "Bearbeite Nr.  182\n",
      "Bearbeite Nr.  183\n",
      "Bearbeite Nr.  184\n",
      "Bearbeite Nr.  185\n",
      "Bearbeite Nr.  186\n",
      "Bearbeite Nr.  187\n",
      "Bearbeite Nr.  188\n",
      "Bearbeite Nr.  189\n",
      "Bearbeite Nr.  190\n",
      "Bearbeite Nr.  191\n",
      "Bearbeite Nr.  192\n",
      "Bearbeite Nr.  193\n",
      "Bearbeite Nr.  194\n",
      "Bearbeite Nr.  195\n",
      "Bearbeite Nr.  196\n",
      "Bearbeite Nr.  197\n",
      "Bearbeite Nr.  198\n",
      "Bearbeite Nr.  199\n",
      "Bearbeite Nr.  200\n",
      "Bearbeite Nr.  201\n",
      "Bearbeite Nr.  202\n",
      "Bearbeite Nr.  203\n",
      "Bearbeite Nr.  204\n",
      "Bearbeite Nr.  205\n",
      "Bearbeite Nr.  206\n",
      "Bearbeite Nr.  207\n",
      "Bearbeite Nr.  208\n",
      "Bearbeite Nr.  209\n",
      "Bearbeite Nr.  210\n",
      "Bearbeite Nr.  211\n",
      "Bearbeite Nr.  212\n",
      "Bearbeite Nr.  213\n",
      "Bearbeite Nr.  214\n",
      "Bearbeite Nr.  215\n",
      "Bearbeite Nr.  216\n",
      "Bearbeite Nr.  217\n",
      "Bearbeite Nr.  218\n",
      "Bearbeite Nr.  219\n",
      "Bearbeite Nr.  220\n",
      "Bearbeite Nr.  221\n",
      "Bearbeite Nr.  222\n",
      "Bearbeite Nr.  223\n",
      "Bearbeite Nr.  224\n",
      "Bearbeite Nr.  225\n",
      "Bearbeite Nr.  226\n"
     ]
    },
    {
     "name": "stderr",
     "output_type": "stream",
     "text": [
      "C:\\Users\\fth\\AppData\\Local\\Temp\\ipykernel_7264\\2793054125.py:26: FutureWarning: The behavior of DataFrame concatenation with empty or all-NA entries is deprecated. In a future version, this will no longer exclude empty or all-NA columns when determining the result dtypes. To retain the old behavior, exclude the relevant entries before the concat operation.\n",
      "  rdf = gpd.GeoDataFrame(pd.concat(dataframelist, ignore_index=True))\n"
     ]
    }
   ],
   "source": [
    "# Pro Standort die Einzugsgebiete von Swisstopo-API beziehen\n",
    "count = 1\n",
    "print(\"Bearbeite Nr. \", count)\n",
    "dataframelist = []\n",
    "\n",
    "for x, y, xtf_id in zip(point_gdf[\"X\"], point_gdf[\"Y\"], point_gdf[\"xtf_id\"]):\n",
    "        data = requests.get(f\"https://api3.geo.admin.ch/rest/services/all/MapServer/identify?geometry={x},{y}&geometryFormat=geojson&geometryType=esriGeometryPoint&imageDisplay=10,10,96&lang=de&layers=all:ch.bafu.wasser-teileinzugsgebiete_2&limit=10&mapExtent=2664777,1096799,2664787,1096809&returnGeometry=true&sr=2056&tolerance=1\")\n",
    "        data = data.json() # transform request in json format\n",
    "        count = count + 1\n",
    "        print(\"Bearbeite Nr. \", count)\n",
    "        \n",
    "        \n",
    "        # Extrahieren der Polygon-Geometrien\n",
    "        features = []\n",
    "        for feature in data[\"results\"]:\n",
    "            geometries = extract_polygons(feature[\"geometry\"])\n",
    "            for geom in geometries:\n",
    "                new_feature = feature.copy()\n",
    "                new_feature[\"geometry\"] = geom\n",
    "                features.append(new_feature)\n",
    "\n",
    "        # Konvertieren Sie die extrahierten Features in ein GeoDataFrame\n",
    "        gdf = gpd.GeoDataFrame.from_features(features)\n",
    "        gdf[\"xtf_id\"] = xtf_id\n",
    "        dataframelist.append(gdf)\n",
    "                \n",
    "rdf = gpd.GeoDataFrame(pd.concat(dataframelist, ignore_index=True))\n",
    "rdf = rdf.merge(point_gdf, on=\"xtf_id\", how=\"left\")\n",
    "gdf = gpd.GeoDataFrame(rdf)"
   ]
  },
  {
   "cell_type": "code",
   "execution_count": 22,
   "metadata": {},
   "outputs": [
    {
     "name": "stderr",
     "output_type": "stream",
     "text": [
      "C:\\Users\\fth\\AppData\\Local\\Temp\\ipykernel_7264\\1595185985.py:3: UserWarning: Column names longer than 10 characters will be truncated when saved to ESRI Shapefile.\n",
      "  gdf.to_file(output_filename, driver='ESRI Shapefile')\n"
     ]
    }
   ],
   "source": [
    "# Shapefile speichern\n",
    "output_filename = r'C:\\Hackathon\\2_Processing\\Einzugsgebiete\\Einzugsgebiete_NEW.shp'\n",
    "gdf.to_file(output_filename, driver='ESRI Shapefile')"
   ]
  },
  {
   "cell_type": "code",
   "execution_count": 24,
   "metadata": {},
   "outputs": [],
   "source": [
    "# Geopackage speichern\n",
    "output_filename = r'C:\\Hackathon\\2_Processing\\Einzugsgebiete\\Einzugsgebiete_NEW.geojson'\n",
    "rdf.to_file(output_filename, driver='GeoJSON')"
   ]
  }
 ],
 "metadata": {
  "kernelspec": {
   "display_name": "hackathon_schnee",
   "language": "python",
   "name": "python3"
  },
  "language_info": {
   "codemirror_mode": {
    "name": "ipython",
    "version": 3
   },
   "file_extension": ".py",
   "mimetype": "text/x-python",
   "name": "python",
   "nbconvert_exporter": "python",
   "pygments_lexer": "ipython3",
   "version": "3.11.8"
  }
 },
 "nbformat": 4,
 "nbformat_minor": 2
}
